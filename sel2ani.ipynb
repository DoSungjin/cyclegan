{
  "cells": [
    {
      "cell_type": "code",
      "execution_count": null,
      "metadata": {
        "colab": {
          "base_uri": "https://localhost:8080/"
        },
        "id": "8HL7sjN-lp12",
        "outputId": "8a47d1dd-4068-442a-b7de-4e9a50a355ee"
      },
      "outputs": [
        {
          "name": "stdout",
          "output_type": "stream",
          "text": [
            "Mounted at /content/gdrive\n"
          ]
        }
      ],
      "source": [
        "from google.colab import drive\n",
        "drive.mount(\"/content/gdrive\")"
      ]
    },
    {
      "cell_type": "code",
      "execution_count": null,
      "metadata": {
        "colab": {
          "base_uri": "https://localhost:8080/"
        },
        "id": "iMDuYwIBlpa3",
        "outputId": "ad76d7c3-fa65-4ede-a51e-14947e7217b4"
      },
      "outputs": [
        {
          "name": "stdout",
          "output_type": "stream",
          "text": [
            "/content/gdrive/MyDrive/python/data\n"
          ]
        }
      ],
      "source": [
        "cd gdrive/MyDrive/python/data"
      ]
    },
    {
      "cell_type": "code",
      "execution_count": null,
      "metadata": {
        "colab": {
          "base_uri": "https://localhost:8080/"
        },
        "id": "LMjJWCQMmw1l",
        "outputId": "d5ca6210-a8d6-486e-c5fb-620302cf379d"
      },
      "outputs": [
        {
          "name": "stdout",
          "output_type": "stream",
          "text": [
            "Processing /dlib-19.18.0-cp37-cp37m-linux_x86_64.whl\n",
            "\u001b[31mERROR: Could not install packages due to an OSError: [Errno 2] No such file or directory: '/dlib-19.18.0-cp37-cp37m-linux_x86_64.whl'\n",
            "\u001b[0m\n"
          ]
        }
      ],
      "source": [
        "!pip install -r requirements.txt #이 프로젝트를 하기 위해 설치해야 하는 library들이 requiremets에 들어있습니다."
      ]
    },
    {
      "cell_type": "markdown",
      "metadata": {
        "id": "Anwiu3MzD3U-"
      },
      "source": [
        "# Selfie to Anime Project"
      ]
    },
    {
      "cell_type": "markdown",
      "metadata": {
        "id": "9AUJS6MPD6HW"
      },
      "source": [
        "데이터셋: https://www.kaggle.com/arnaud58/selfie2anime\n",
        "download를 통해 다운받고, hw_leaf를 참고해 폴더를 업로드"
      ]
    },
    {
      "cell_type": "markdown",
      "metadata": {
        "id": "RWiS4PWAD3VA"
      },
      "source": [
        " **Code 0. Import Library**"
      ]
    },
    {
      "cell_type": "code",
      "execution_count": null,
      "metadata": {
        "id": "BUvSSLIuD3VB"
      },
      "outputs": [],
      "source": [
        "import glob    # 파일들의 리스트를 뽑아 경로명을 이용\n",
        "import random    # 랜덤 관련 함수\n",
        "import os\n",
        "\n",
        "from torch.utils.data import Dataset, DataLoader    # dataset : 샘플과 정답(label) 저장 / dataloader : dataset을 샘플에 쉽게 접근하도록\n",
        "from PIL import Image    # Python Imaging Library : 이미지 분석 및 처리\n",
        "import torchvision.transforms as transforms    # 다양한 이미지 변환 기능\n",
        "import sys\n",
        "import torch.nn as nn    # 신경망 생성& 정의\n",
        "import torch.nn.functional as F    # 신경망 생성& 정의\n",
        "import torch\n",
        "\n",
        "import os\n",
        "import numpy as np\n",
        "import math\n",
        "import itertools    # 조합, 순열 함수\n",
        "import datetime\n",
        "import time\n",
        "\n",
        "from torchvision.utils import save_image, make_grid    # save_image : 이미지 저장 / make_grid : 이미지 학습 때 중간중간의 결과 확인\n",
        "from torchvision import datasets    # torchvision에서 제공하는 데이터 셋 사용\n",
        "from torch.autograd import Variable    # 각 tensor 값을 볼 수 있는 data, 미분을 보는 grad, backward를 통한 미분 계산 함수 정보인 grad_fn"
      ]
    },
    {
      "cell_type": "markdown",
      "metadata": {
        "id": "SBTEQsGiD3VC"
      },
      "source": [
        "**Code 1. Dataset**"
      ]
    },
    {
      "cell_type": "code",
      "execution_count": null,
      "metadata": {
        "id": "5V3Jc_iFD3VC"
      },
      "outputs": [],
      "source": [
        "def to_rgb(image):\n",
        "    rgb_image = Image.new(\"RGB\", image.size)    # 이미지를 새로 생성. Imgae.new(mode, size, color) / 여기서 mode는 RGB로 3*8-bit pixels, true color. size는 256*256. 즉 사이즈는 유지\n",
        "    rgb_image.paste(image)    # 이미지끼리 이어붙임\n",
        "    return rgb_image"
      ]
    },
    {
      "cell_type": "code",
      "execution_count": null,
      "metadata": {
        "id": "CjBBLhG8D3VC"
      },
      "outputs": [],
      "source": [
        "class ImageDataset(Dataset):\n",
        "    def __init__(self, root, transforms_=None, unaligned=False, mode=\"train\"):\n",
        "        self.transform = transforms.Compose(transforms_)    # transforms_에 따라 이미지 변환\n",
        "        self.unaligned = unaligned    # 학습 이미지쌍을 무작위로 고를지 고정시킬지 정함. 여기선 False(고정)인 경우는 없음\n",
        "        # train 모드일 때는 trainA, trainB에 있는 디렉토리에서 이미지를 불러옵니다. \n",
        "        if mode==\"train\":    # 학습모드일 땐 train 폴더 내의 이미지 사용\n",
        "            # glob 함수로 trainA 디렉토리의 이미지의 목록을 불러옵니다. \n",
        "            self.files_A = sorted(glob.glob(os.path.join(root, \"trainA\") + \"/*.*\"))    # 경로의 trainA 폴더 내 모든 파일 목록을 가져옴\n",
        "            self.files_B = sorted(glob.glob(os.path.join(root, \"trainB\") + \"/*.*\"))    # 경로의 trainB 폴더 내 모든 파일 목록을 가져옴\n",
        "        else:    # 학습모드가 아닐 땐 test 폴더 내 이미지 사용\n",
        "            self.files_A = sorted(glob.glob(os.path.join(root, \"testA\") + \"/*.*\"))    # 경로의 testA 폴더 내 모든 파일 목록을 가져옴\n",
        "            self.files_B = sorted(glob.glob(os.path.join(root, \"testB\") + \"/*.*\"))    # 경로의 testB 폴더 내 모든 파일 목록을 가져옴\n",
        "\n",
        "    def __getitem__(self, index):\n",
        "        # index값으로 이미지의목록 중 이미지 하나를 불러옵니다. \n",
        "        image_A = Image.open(self.files_A[index % len(self.files_A)])\n",
        "        # unaligned 변수로 학습할 Pair를 랜덤으로 고릅니다.\n",
        "        if self.unaligned:\n",
        "            image_B = Image.open(self.files_B[random.randint(0, len(self.files_B) - 1)])\n",
        "        else:\n",
        "            image_B = Image.open(self.files_B[index % len(self.files_B)])\n",
        "\n",
        "        # Convert grayscale images to rgb\n",
        "        # 흑백이미지의 경우 RGB 형태로 변경\n",
        "        if image_A.mode != \"RGB\":\n",
        "            image_A = to_rgb(image_A)\n",
        "        if image_B.mode != \"RGB\":\n",
        "            image_B = to_rgb(image_B)\n",
        "\n",
        "        item_A = self.transform(image_A)    # transform 진행한 이미지 저장\n",
        "        item_B = self.transform(image_B)    # 위와 동일\n",
        "        return {\"A\": item_A, \"B\": item_B}\n",
        "\n",
        "    def __len__(self):\n",
        "        return max(len(self.files_A), len(self.files_B))    # trainA, trainB 폴더 내 파일 개수 반환"
      ]
    },
    {
      "cell_type": "markdown",
      "metadata": {
        "id": "HJ8adjM9D3VD"
      },
      "source": [
        "**Code 2. Generator & Discriminator**"
      ]
    },
    {
      "cell_type": "code",
      "execution_count": null,
      "metadata": {
        "id": "mjgaYezED3VE"
      },
      "outputs": [],
      "source": [
        "def weights_init_normal(m):    # 가중치 초기화 함수. 클래스(layer)의 종류에 따라 가중치 초기화를 다르게 진행\n",
        "    classname = m.__class__.__name__    # 클래스 이름 참조\n",
        "    if classname.find(\"Conv\") != -1:    # Conv 클래스의 경우\n",
        "        torch.nn.init.normal_(m.weight.data, 0.0, 0.02)    # 가중치(tensor형)에 정규분포 평균 0, 표준편차 0.02를 따르는 값을 넣음\n",
        "        if hasattr(m, \"bias\") and m.bias is not None:    # bias 변수가 있고 None 값이 아니라면\n",
        "            torch.nn.init.constant_(m.bias.data, 0.0)    # bias값을 0으로\n",
        "    elif classname.find(\"BatchNorm2d\") != -1:    # BatchNorm2d 클래스의 경우\n",
        "        torch.nn.init.normal_(m.weight.data, 1.0, 0.02)    # 위와 같지만 평균 1\n",
        "        torch.nn.init.constant_(m.bias.data, 0.0)    # bias는 모두 0값으로"
      ]
    },
    {
      "cell_type": "code",
      "execution_count": null,
      "metadata": {
        "id": "QPgCU8CiD3VE"
      },
      "outputs": [],
      "source": [
        "class ResidualBlock(nn.Module):    # 내부 layer인 Residual Block 구현 : 기울기 소실 문제를 해결하기 위함\n",
        "    def __init__(self, in_features):\n",
        "        super(ResidualBlock, self).__init__()    # ResidualBlock 클래스를 상속. 여기선 nn.Sequential을 상속받음. 이로 forward method를 작성하지 않아도 됨\n",
        "\n",
        "        self.block = nn.Sequential(    # layer 형태보다 가독성 뛰어남\n",
        "            nn.ReflectionPad2d(1),    # 요건 밑을 보는 것이 편할듯... 입력 이미지의 패딩을 반사기법 사용. 더 자연스러운 이미지 생성 도움\n",
        "            nn.Conv2d(in_features, in_features, 3),    # in&out 채널은 그대로, kernel은 3\n",
        "            nn.InstanceNorm2d(in_features),    # Instance들을 개별로 Normalize. Batch Normalization과는 차이\n",
        "            nn.ReLU(inplace=True),    # Relu. inplace=True면 input으로 들어온 것 자체를 수정. 메모리 usage가 조금 사용되지만 input을 제거\n",
        "            nn.ReflectionPad2d(1),    # 위와 같음\n",
        "            nn.Conv2d(in_features, in_features, 3),    # 위와 같음\n",
        "            nn.InstanceNorm2d(in_features),    # 위와 같음\n",
        "        )\n",
        "\n",
        "    def forward(self, x):\n",
        "        return x + self.block(x)    # ResidaulBlock 실행 결과를 더함"
      ]
    },
    {
      "cell_type": "code",
      "execution_count": null,
      "metadata": {
        "colab": {
          "base_uri": "https://localhost:8080/"
        },
        "id": "KuGV21SryHp7",
        "outputId": "d278d489-42ae-4a56-af55-11aff0675d99"
      },
      "outputs": [
        {
          "data": {
            "text/plain": [
              "tensor([[[[ 0.,  1.,  2.,  3.],\n",
              "          [ 4.,  5.,  6.,  7.],\n",
              "          [ 8.,  9., 10., 11.],\n",
              "          [12., 13., 14., 15.]]]])"
            ]
          },
          "execution_count": 10,
          "metadata": {},
          "output_type": "execute_result"
        }
      ],
      "source": [
        "xxx = torch.arange(16, dtype=torch.float).reshape(1, 1, 4, 4)\n",
        "xxx"
      ]
    },
    {
      "cell_type": "code",
      "execution_count": null,
      "metadata": {
        "colab": {
          "base_uri": "https://localhost:8080/"
        },
        "id": "kQmbc8TkyLbQ",
        "outputId": "d1dc5265-2697-4525-f4bf-389a1bcf7338"
      },
      "outputs": [
        {
          "data": {
            "text/plain": [
              "tensor([[[[ 5.,  4.,  5.,  6.,  7.,  6.],\n",
              "          [ 1.,  0.,  1.,  2.,  3.,  2.],\n",
              "          [ 5.,  4.,  5.,  6.,  7.,  6.],\n",
              "          [ 9.,  8.,  9., 10., 11., 10.],\n",
              "          [13., 12., 13., 14., 15., 14.],\n",
              "          [ 9.,  8.,  9., 10., 11., 10.]]]])"
            ]
          },
          "execution_count": 11,
          "metadata": {},
          "output_type": "execute_result"
        }
      ],
      "source": [
        "mmm = nn.ReflectionPad2d(1)\n",
        "mmm(xxx)"
      ]
    },
    {
      "cell_type": "code",
      "execution_count": null,
      "metadata": {
        "colab": {
          "base_uri": "https://localhost:8080/"
        },
        "id": "8Xk5-6wqyeKj",
        "outputId": "945820d0-fa49-4557-c953-3b1bf6221ffe"
      },
      "outputs": [
        {
          "data": {
            "text/plain": [
              "tensor([[[[10.,  9.,  8.,  9., 10., 11., 10.,  9.],\n",
              "          [ 6.,  5.,  4.,  5.,  6.,  7.,  6.,  5.],\n",
              "          [ 2.,  1.,  0.,  1.,  2.,  3.,  2.,  1.],\n",
              "          [ 6.,  5.,  4.,  5.,  6.,  7.,  6.,  5.],\n",
              "          [10.,  9.,  8.,  9., 10., 11., 10.,  9.],\n",
              "          [14., 13., 12., 13., 14., 15., 14., 13.],\n",
              "          [10.,  9.,  8.,  9., 10., 11., 10.,  9.],\n",
              "          [ 6.,  5.,  4.,  5.,  6.,  7.,  6.,  5.]]]])"
            ]
          },
          "execution_count": 12,
          "metadata": {},
          "output_type": "execute_result"
        }
      ],
      "source": [
        "mmm = nn.ReflectionPad2d(2)\n",
        "mmm(xxx)"
      ]
    },
    {
      "cell_type": "code",
      "execution_count": null,
      "metadata": {
        "colab": {
          "base_uri": "https://localhost:8080/"
        },
        "id": "Yk9kKV9qyf6c",
        "outputId": "ce86202b-06f6-4002-8fc3-3257c97462ff"
      },
      "outputs": [
        {
          "data": {
            "text/plain": [
              "tensor([[[[15., 14., 13., 12., 13., 14., 15., 14., 13., 12.],\n",
              "          [11., 10.,  9.,  8.,  9., 10., 11., 10.,  9.,  8.],\n",
              "          [ 7.,  6.,  5.,  4.,  5.,  6.,  7.,  6.,  5.,  4.],\n",
              "          [ 3.,  2.,  1.,  0.,  1.,  2.,  3.,  2.,  1.,  0.],\n",
              "          [ 7.,  6.,  5.,  4.,  5.,  6.,  7.,  6.,  5.,  4.],\n",
              "          [11., 10.,  9.,  8.,  9., 10., 11., 10.,  9.,  8.],\n",
              "          [15., 14., 13., 12., 13., 14., 15., 14., 13., 12.],\n",
              "          [11., 10.,  9.,  8.,  9., 10., 11., 10.,  9.,  8.],\n",
              "          [ 7.,  6.,  5.,  4.,  5.,  6.,  7.,  6.,  5.,  4.],\n",
              "          [ 3.,  2.,  1.,  0.,  1.,  2.,  3.,  2.,  1.,  0.]]]])"
            ]
          },
          "execution_count": 13,
          "metadata": {},
          "output_type": "execute_result"
        }
      ],
      "source": [
        "mmm = nn.ReflectionPad2d(3)\n",
        "mmm(xxx)"
      ]
    },
    {
      "cell_type": "code",
      "execution_count": null,
      "metadata": {
        "id": "iUU_6ZSRD3VF"
      },
      "outputs": [],
      "source": [
        "class GeneratorResNet(nn.Module):\n",
        "    def __init__(self, input_shape, num_residual_blocks):\n",
        "        super(GeneratorResNet, self).__init__()    # 역시나 상속\n",
        "\n",
        "        channels = input_shape[0]    # 채널의 수 저장\n",
        "\n",
        "        # Initial convolution block\n",
        "        out_features = 64    # output 채널의 수 = 64\n",
        "        model = [\n",
        "            nn.ReflectionPad2d(channels),    # 리플렉션패딩.. 채널수만큼\n",
        "            nn.Conv2d(channels, out_features, 7),    # 채널의 수 input, 64 채널 output, kernel=7\n",
        "            nn.InstanceNorm2d(out_features),    # batch 단위 normalize\n",
        "            nn.ReLU(inplace=True),    # relu 진행\n",
        "        ]\n",
        "        in_features = out_features    # 이젠 채널의 in&out값 통일\n",
        "\n",
        "        # Downsampling\n",
        "        for _ in range(2):    # 2번 반복\n",
        "            out_features *= 2    # out channel 값에 2씩 곱함.. 각각 128, 256\n",
        "            model += [    # 모델에 레이어를 한번씩 더함\n",
        "                nn.Conv2d(in_features, out_features, 3, stride=2, padding=1),    # 1step : 3, 128, 3, 2, 1 / 2step : 128, 256, 3, 2, 1\n",
        "                nn.InstanceNorm2d(out_features),\n",
        "                nn.ReLU(inplace=True),\n",
        "            ]\n",
        "            in_features = out_features    # in & out channel 값 같게\n",
        "        # 이미지는 어떻게...?\n",
        "        # (1, 3, 256, 256) -> (1, 128, 128, 128) -> (1, 256, 64, 64)\n",
        "\n",
        "        # Residual blocks\n",
        "        for _ in range(num_residual_blocks):    # residual blocks 수 만큼\n",
        "            model += [ResidualBlock(out_features)]    # 모델에 ResidualBlock 함수를 더함 (out_features = 256)\n",
        "\n",
        "        # Upsampling\n",
        "        for _ in range(2):    # 2번 반복\n",
        "            out_features //= 2    # out channel 값을 2씩 나눔. 각각 128, 64\n",
        "            model += [    # 모델에 레이어를 한번씩 더함\n",
        "                nn.Upsample(scale_factor=2),    # 이미지를 2배씩 확대\n",
        "                nn.Conv2d(in_features, out_features, 3, stride=1, padding=1),   # 1step : 256, 128, 3, 1, 1 / 2step : 128, 64, 3, 1, 1\n",
        "                nn.InstanceNorm2d(out_features),\n",
        "                nn.ReLU(inplace=True),\n",
        "            ]\n",
        "            in_features = out_features    # in & out channel 값 같게\n",
        "        # 이미지는 어떻게...?\n",
        "        # (1, 256, 64, 64) -> (1, 128, 128, 128) -> (1, 64, 256, 256)\n",
        "\n",
        "        # Output layer : 출력 레이어\n",
        "        model += [nn.ReflectionPad2d(channels), nn.Conv2d(out_features, channels, 7), nn.Tanh()]    # 모델 마지막에 리플렉트 패딩, conv(64, 64, 7), tanh로 활성화\n",
        "        # 초기 input 이미지의 채널값은 3이었으므로 channels = 3. 이미지는 그럼... (256+3*2) - 7+1 = 256. 즉, 입력 이미지와 출력 이미지의 크기는 동일하다.\n",
        "\n",
        "        self.model = nn.Sequential(*model)    # 모델의 sequential화...? 밑에 확인\n",
        "\n",
        "    def forward(self, x):\n",
        "        return self.model(x)"
      ]
    },
    {
      "cell_type": "code",
      "execution_count": null,
      "metadata": {
        "colab": {
          "base_uri": "https://localhost:8080/",
          "height": 245
        },
        "id": "koFNbbPB5AzI",
        "outputId": "4ac56df4-1a77-493b-e4f2-7655ef1bab82"
      },
      "outputs": [
        {
          "ename": "NameError",
          "evalue": "ignored",
          "output_type": "error",
          "traceback": [
            "\u001b[0;31m---------------------------------------------------------------------------\u001b[0m",
            "\u001b[0;31mNameError\u001b[0m                                 Traceback (most recent call last)",
            "\u001b[0;32m<ipython-input-15-9e76de29175f>\u001b[0m in \u001b[0;36m<module>\u001b[0;34m()\u001b[0m\n\u001b[1;32m      1\u001b[0m model = [\n\u001b[0;32m----> 2\u001b[0;31m             \u001b[0mnn\u001b[0m\u001b[0;34m.\u001b[0m\u001b[0mReflectionPad2d\u001b[0m\u001b[0;34m(\u001b[0m\u001b[0mchannels\u001b[0m\u001b[0;34m)\u001b[0m\u001b[0;34m,\u001b[0m\u001b[0;34m\u001b[0m\u001b[0;34m\u001b[0m\u001b[0m\n\u001b[0m\u001b[1;32m      3\u001b[0m             \u001b[0mnn\u001b[0m\u001b[0;34m.\u001b[0m\u001b[0mConv2d\u001b[0m\u001b[0;34m(\u001b[0m\u001b[0mchannels\u001b[0m\u001b[0;34m,\u001b[0m \u001b[0;36m64\u001b[0m\u001b[0;34m,\u001b[0m \u001b[0;36m7\u001b[0m\u001b[0;34m)\u001b[0m\u001b[0;34m,\u001b[0m\u001b[0;34m\u001b[0m\u001b[0;34m\u001b[0m\u001b[0m\n\u001b[1;32m      4\u001b[0m             \u001b[0mnn\u001b[0m\u001b[0;34m.\u001b[0m\u001b[0mInstanceNorm2d\u001b[0m\u001b[0;34m(\u001b[0m\u001b[0;36m64\u001b[0m\u001b[0;34m)\u001b[0m\u001b[0;34m,\u001b[0m\u001b[0;34m\u001b[0m\u001b[0;34m\u001b[0m\u001b[0m\n\u001b[1;32m      5\u001b[0m             \u001b[0mnn\u001b[0m\u001b[0;34m.\u001b[0m\u001b[0mReLU\u001b[0m\u001b[0;34m(\u001b[0m\u001b[0minplace\u001b[0m\u001b[0;34m=\u001b[0m\u001b[0;32mTrue\u001b[0m\u001b[0;34m)\u001b[0m\u001b[0;34m,\u001b[0m\u001b[0;34m\u001b[0m\u001b[0;34m\u001b[0m\u001b[0m\n",
            "\u001b[0;31mNameError\u001b[0m: name 'channels' is not defined"
          ]
        }
      ],
      "source": [
        "model = [\n",
        "            nn.ReflectionPad2d(channels),\n",
        "            nn.Conv2d(channels, 64, 7),\n",
        "            nn.InstanceNorm2d(64),\n",
        "            nn.ReLU(inplace=True),\n",
        "        ]"
      ]
    },
    {
      "cell_type": "code",
      "execution_count": null,
      "metadata": {
        "colab": {
          "base_uri": "https://localhost:8080/",
          "height": 172
        },
        "id": "eUPcxB1V5OeD",
        "outputId": "ff49b310-6ac4-457f-d9df-726523abcf32"
      },
      "outputs": [
        {
          "ename": "NameError",
          "evalue": "ignored",
          "output_type": "error",
          "traceback": [
            "\u001b[0;31m---------------------------------------------------------------------------\u001b[0m",
            "\u001b[0;31mNameError\u001b[0m                                 Traceback (most recent call last)",
            "\u001b[0;32m<ipython-input-16-1f8a688cae5d>\u001b[0m in \u001b[0;36m<module>\u001b[0;34m()\u001b[0m\n\u001b[0;32m----> 1\u001b[0;31m \u001b[0mmodel\u001b[0m\u001b[0;34m\u001b[0m\u001b[0;34m\u001b[0m\u001b[0m\n\u001b[0m",
            "\u001b[0;31mNameError\u001b[0m: name 'model' is not defined"
          ]
        }
      ],
      "source": [
        "model"
      ]
    },
    {
      "cell_type": "code",
      "execution_count": null,
      "metadata": {
        "colab": {
          "base_uri": "https://localhost:8080/",
          "height": 190
        },
        "id": "jxix2Pay5JlT",
        "outputId": "74358fc9-215b-4cf7-bb33-aa1e9d7419d5"
      },
      "outputs": [
        {
          "ename": "NameError",
          "evalue": "ignored",
          "output_type": "error",
          "traceback": [
            "\u001b[0;31m---------------------------------------------------------------------------\u001b[0m",
            "\u001b[0;31mNameError\u001b[0m                                 Traceback (most recent call last)",
            "\u001b[0;32m<ipython-input-17-00e3c2befe55>\u001b[0m in \u001b[0;36m<module>\u001b[0;34m()\u001b[0m\n\u001b[0;32m----> 1\u001b[0;31m \u001b[0mmodel\u001b[0m \u001b[0;34m=\u001b[0m \u001b[0mnn\u001b[0m\u001b[0;34m.\u001b[0m\u001b[0mSequential\u001b[0m\u001b[0;34m(\u001b[0m\u001b[0;34m*\u001b[0m\u001b[0mmodel\u001b[0m\u001b[0;34m)\u001b[0m\u001b[0;34m\u001b[0m\u001b[0;34m\u001b[0m\u001b[0m\n\u001b[0m\u001b[1;32m      2\u001b[0m \u001b[0mmodel\u001b[0m\u001b[0;34m\u001b[0m\u001b[0;34m\u001b[0m\u001b[0m\n",
            "\u001b[0;31mNameError\u001b[0m: name 'model' is not defined"
          ]
        }
      ],
      "source": [
        "model = nn.Sequential(*model)\n",
        "model"
      ]
    },
    {
      "cell_type": "code",
      "execution_count": null,
      "metadata": {
        "id": "Q867yZJcD3VF"
      },
      "outputs": [],
      "source": [
        "class Discriminator(nn.Module):\n",
        "    def __init__(self, input_shape):\n",
        "        super(Discriminator, self).__init__()    # 상속받자!\n",
        "\n",
        "        channels, height, width = input_shape    # 이미지의 채널, 세로길이, 가로길이\n",
        "\n",
        "        # Calculate output shape of image discriminator (PatchGAN)\n",
        "        self.output_shape = (1, height // 2 ** 4, width // 2 ** 4)    # output 이미지의 크기... 채널 1개, 가로&세로길이 16으로 나눈 값. 즉 (1, 16, 16)\n",
        "\n",
        "        def discriminator_block(in_filters, out_filters, normalize=True):    # 이미지 다운샘플링 함수 정의\n",
        "            \"\"\"Returns downsampling layers of each discriminator block\"\"\"\n",
        "            layers = [nn.Conv2d(in_filters, out_filters, 4, stride=2, padding=1)]    # layer는 conv. input, output, kernel = 4, stride = 2, padding = 1\n",
        "            if normalize:    # normalize해야하면\n",
        "                layers.append(nn.InstanceNorm2d(out_filters))    # layer에 instancenorm2d 붙이고\n",
        "            layers.append(nn.LeakyReLU(0.2, inplace=True))    # leakyReLU를 붙이자\n",
        "            return layers\n",
        "\n",
        "        self.model = nn.Sequential(    # Sequential화 시켜주자\n",
        "            *discriminator_block(channels, 64, normalize=False),    # 위의 discriminator에 output 64, normalize 필요 레이어를 먼저 추가\n",
        "            *discriminator_block(64, 128),    # 이어서 input 64, output 128 레이어 추가\n",
        "            *discriminator_block(128, 256),    # input 128, output 256\n",
        "            *discriminator_block(256, 512),    # input 256, output512\n",
        "            nn.ZeroPad2d((1, 0, 1, 0)),    # 0으로 이루어진 패딩을 왼쪽과 위쪽에만 1개씩 붙임\n",
        "            nn.Conv2d(512, 1, 4, padding=1)    # 마지막 conv layer. 512개의 input을 1개의 output으로, kernel=4, padding=1\n",
        "        )\n",
        "        # 위의 결과로 나온 이미지의 크기는?? : (1, 3, 256, 256) -> (1, 64, 128, 128) -> (1, 128, 64, 64) -> (1, 256, 32, 32) -> (1, 512, 16, 16) -> (1, 512, 17, 17) -> (1, 1, 16, 16)\n",
        "\n",
        "    def forward(self, img):\n",
        "        return self.model(img)"
      ]
    },
    {
      "cell_type": "code",
      "execution_count": null,
      "metadata": {
        "colab": {
          "base_uri": "https://localhost:8080/"
        },
        "id": "Rskc5FMk7g4m",
        "outputId": "ecec070e-ed71-4f22-c782-5344d8f396f9"
      },
      "outputs": [
        {
          "data": {
            "text/plain": [
              "tensor([[[[ 0.9125, -1.6312, -1.7842],\n",
              "          [ 0.3164, -0.8926, -0.3524],\n",
              "          [ 1.6352,  0.3519,  0.7207]]]])"
            ]
          },
          "execution_count": 19,
          "metadata": {},
          "output_type": "execute_result"
        }
      ],
      "source": [
        "xxx = torch.randn(1, 1, 3, 3)\n",
        "xxx"
      ]
    },
    {
      "cell_type": "code",
      "execution_count": null,
      "metadata": {
        "colab": {
          "base_uri": "https://localhost:8080/"
        },
        "id": "U78LHyco7j9h",
        "outputId": "ec76a7dd-c82f-4b1c-9e58-712abc3ae0f4"
      },
      "outputs": [
        {
          "data": {
            "text/plain": [
              "tensor([[[[ 0.0000,  0.0000,  0.0000,  0.0000],\n",
              "          [ 0.0000,  0.9125, -1.6312, -1.7842],\n",
              "          [ 0.0000,  0.3164, -0.8926, -0.3524],\n",
              "          [ 0.0000,  1.6352,  0.3519,  0.7207]]]])"
            ]
          },
          "execution_count": 20,
          "metadata": {},
          "output_type": "execute_result"
        }
      ],
      "source": [
        "mmm = nn.ZeroPad2d((1, 0, 1, 0))\n",
        "mmm(xxx)"
      ]
    },
    {
      "cell_type": "markdown",
      "metadata": {
        "id": "mTg5cZT7D3VG"
      },
      "source": [
        "**Code 3. Training**"
      ]
    },
    {
      "cell_type": "code",
      "execution_count": null,
      "metadata": {
        "id": "diorxZMD5AVw"
      },
      "outputs": [],
      "source": [
        "dataset_name=\"selfie2anime\"\n",
        "channels = 3\n",
        "img_height = 256\n",
        "img_width = 256\n",
        "n_residual_blocks=9\n",
        "lr=0.0002\n",
        "b1=0.5\n",
        "b2=0.999\n",
        "#n_epochs=200\n",
        "n_epochs=20\n",
        "init_epoch=0\n",
        "#decay_epoch=100\n",
        "decay_epoch=10\n",
        "lambda_cyc=10.0\n",
        "lambda_id=5.0    # Identity loss에 대한 람다값. 클수록 본래의 색감 유지\n",
        "n_cpu=8\n",
        "batch_size=1\n",
        "sample_interval=100\n",
        "checkpoint_interval=5"
      ]
    },
    {
      "cell_type": "code",
      "execution_count": null,
      "metadata": {
        "id": "nigN-cc1D3VG"
      },
      "outputs": [],
      "source": [
        "class opt :\n",
        "  dataset_name=\"selfie2anime\"\n",
        "  channels = 3\n",
        "  img_height = 256\n",
        "  img_width = 256\n",
        "  n_residual_blocks=9\n",
        "  lr=0.0002\n",
        "  b1=0.5\n",
        "  b2=0.999\n",
        "  #n_epochs=200\n",
        "  n_epochs=20\n",
        "  init_epoch=0\n",
        "  #decay_epoch=100\n",
        "  decay_epoch=10\n",
        "  lambda_cyc=10.0\n",
        "  lambda_id=5.0\n",
        "  n_cpu=8\n",
        "  batch_size=1\n",
        "  sample_interval=100\n",
        "  checkpoint_interval=5"
      ]
    },
    {
      "cell_type": "code",
      "execution_count": null,
      "metadata": {
        "id": "vPMhxfYID3VG"
      },
      "outputs": [],
      "source": [
        "# Create sample and checkpoint directories\n",
        "os.makedirs(\"images/%s\" % dataset_name, exist_ok=True)    # 이미지를 저장할 경로 존재하면 따로 생성하지 않음\n",
        "os.makedirs(\"saved_models/%s\" % dataset_name, exist_ok=True)    # 모델을 저장할 경로 존재하면 따로 생성하지 않음"
      ]
    },
    {
      "cell_type": "code",
      "execution_count": null,
      "metadata": {
        "id": "wZJYfgTfD3VG"
      },
      "outputs": [],
      "source": [
        "# Losses\n",
        "criterion_GAN = torch.nn.MSELoss()    # GAN의 손실함수는 MSE\n",
        "criterion_cycle = torch.nn.L1Loss()    # 사이클의 손실함수는 L1 Loss\n",
        "criterion_identity = torch.nn.L1Loss()    # 아이덴티티의 손실함수는 L1 Loss"
      ]
    },
    {
      "cell_type": "code",
      "execution_count": null,
      "metadata": {
        "id": "61O_n58oD3VH"
      },
      "outputs": [],
      "source": [
        "input_shape = (channels, img_height, img_width)    # input 데이터 shape\n",
        "\n",
        "# Initialize generator and discriminator\n",
        "G_AB = GeneratorResNet(input_shape, n_residual_blocks)    # 사람들 이미지로 애니이미지를 만드는 generator\n",
        "G_BA = GeneratorResNet(input_shape, n_residual_blocks)    # 애니이미지로 사람들 이미지를 만드는 generator\n",
        "D_A = Discriminator(input_shape)    # 사람들 이미지 discriminator\n",
        "D_B = Discriminator(input_shape)    # 애니 이미지 discriminator"
      ]
    },
    {
      "cell_type": "code",
      "execution_count": null,
      "metadata": {
        "id": "OTZ0SzttD3VH"
      },
      "outputs": [],
      "source": [
        "cuda = torch.cuda.is_available()    # cuda 사용 여부 확인\n",
        "\n",
        "if cuda:    # cuda 되면 모두 cuda로\n",
        "    G_AB = G_AB.cuda()\n",
        "    G_BA = G_BA.cuda()\n",
        "    D_A = D_A.cuda()\n",
        "    D_B = D_B.cuda()\n",
        "    criterion_GAN.cuda()\n",
        "    criterion_cycle.cuda()\n",
        "    criterion_identity.cuda()"
      ]
    },
    {
      "cell_type": "code",
      "execution_count": null,
      "metadata": {
        "colab": {
          "base_uri": "https://localhost:8080/"
        },
        "id": "SA3RQHgID3VH",
        "outputId": "60eadc8c-3319-4a6a-c714-c6452bb45d0b"
      },
      "outputs": [
        {
          "data": {
            "text/plain": [
              "Discriminator(\n",
              "  (model): Sequential(\n",
              "    (0): Conv2d(3, 64, kernel_size=(4, 4), stride=(2, 2), padding=(1, 1))\n",
              "    (1): LeakyReLU(negative_slope=0.2, inplace=True)\n",
              "    (2): Conv2d(64, 128, kernel_size=(4, 4), stride=(2, 2), padding=(1, 1))\n",
              "    (3): InstanceNorm2d(128, eps=1e-05, momentum=0.1, affine=False, track_running_stats=False)\n",
              "    (4): LeakyReLU(negative_slope=0.2, inplace=True)\n",
              "    (5): Conv2d(128, 256, kernel_size=(4, 4), stride=(2, 2), padding=(1, 1))\n",
              "    (6): InstanceNorm2d(256, eps=1e-05, momentum=0.1, affine=False, track_running_stats=False)\n",
              "    (7): LeakyReLU(negative_slope=0.2, inplace=True)\n",
              "    (8): Conv2d(256, 512, kernel_size=(4, 4), stride=(2, 2), padding=(1, 1))\n",
              "    (9): InstanceNorm2d(512, eps=1e-05, momentum=0.1, affine=False, track_running_stats=False)\n",
              "    (10): LeakyReLU(negative_slope=0.2, inplace=True)\n",
              "    (11): ZeroPad2d(padding=(1, 0, 1, 0), value=0.0)\n",
              "    (12): Conv2d(512, 1, kernel_size=(4, 4), stride=(1, 1), padding=(1, 1))\n",
              "  )\n",
              ")"
            ]
          },
          "execution_count": 27,
          "metadata": {},
          "output_type": "execute_result"
        }
      ],
      "source": [
        "# Initialize weights\n",
        "G_AB.apply(weights_init_normal)    # 사람=>애니 generator 가중치 초기화\n",
        "G_BA.apply(weights_init_normal)    # 애니=>사람 generator 가중치 초기화\n",
        "D_A.apply(weights_init_normal)    # 사람 discriminator 가중치 초기화\n",
        "D_B.apply(weights_init_normal)    # 애니 discriminator 가중치 초기화"
      ]
    },
    {
      "cell_type": "code",
      "execution_count": null,
      "metadata": {
        "id": "V0zvlioCD3VI"
      },
      "outputs": [],
      "source": [
        "# Optimizers\n",
        "# generator, discriminator 모두 Adam 사용\n",
        "optimizer_G = torch.optim.Adam(\n",
        "    itertools.chain(G_AB.parameters(), G_BA.parameters()), lr=lr, betas=(b1, b2)\n",
        ")\n",
        "optimizer_D_A = torch.optim.Adam(D_A.parameters(), lr=lr, betas=(b1, b2))\n",
        "optimizer_D_B = torch.optim.Adam(D_B.parameters(), lr=lr, betas=(b1, b2))"
      ]
    },
    {
      "cell_type": "code",
      "execution_count": null,
      "metadata": {
        "id": "4U9L9uZ1D3VI"
      },
      "outputs": [],
      "source": [
        "class LambdaLR:    # Learning Rate를 Decay할 Epcoh 설정\n",
        "    def __init__(self, n_epochs, offset, decay_start_epoch):\n",
        "        assert (n_epochs - decay_start_epoch) > 0, \"Decay must start before the training session ends!\"    # epoch 값이 decay_start_epcoh 값보다 커야함\n",
        "        self.n_epochs = n_epochs\n",
        "        self.offset = offset\n",
        "        self.decay_start_epoch = decay_start_epoch\n",
        "\n",
        "    def step(self, epoch):\n",
        "        return 1.0 - max(0, epoch + self.offset - self.decay_start_epoch) / (self.n_epochs - self.decay_start_epoch)"
      ]
    },
    {
      "cell_type": "code",
      "execution_count": null,
      "metadata": {
        "id": "qsrlaUo6D3VI"
      },
      "outputs": [],
      "source": [
        "# Learning rate update schedulers\n",
        "# 학습률 조정. 학습률에 lr_lambda 값을 곱해 감소시킴\n",
        "lr_scheduler_G = torch.optim.lr_scheduler.LambdaLR(\n",
        "    optimizer_G, lr_lambda=LambdaLR(n_epochs, init_epoch, decay_epoch).step\n",
        ")\n",
        "lr_scheduler_D_A = torch.optim.lr_scheduler.LambdaLR(\n",
        "    optimizer_D_A, lr_lambda=LambdaLR(n_epochs, init_epoch, decay_epoch).step\n",
        ")\n",
        "lr_scheduler_D_B = torch.optim.lr_scheduler.LambdaLR(\n",
        "    optimizer_D_B, lr_lambda=LambdaLR(n_epochs, init_epoch, decay_epoch).step\n",
        ")"
      ]
    },
    {
      "cell_type": "code",
      "execution_count": null,
      "metadata": {
        "id": "KGYIziw3D3VI"
      },
      "outputs": [],
      "source": [
        "Tensor = torch.cuda.FloatTensor if cuda else torch.Tensor    # GPU 연산을 위한 자료형 변환"
      ]
    },
    {
      "cell_type": "code",
      "execution_count": null,
      "metadata": {
        "id": "G4I11N0rD3VI"
      },
      "outputs": [],
      "source": [
        "class ReplayBuffer:    # torch 변수가 requires_grad=True로 설정되어 있다면 매 연산마다 gradient를 저장하므로 이미지를 따로 저장\n",
        "    def __init__(self, max_size=50):\n",
        "        assert max_size > 0, \"Empty buffer or trying to create a black hole. Be careful.\"    # max_size가 0보다 커야만 진행\n",
        "        self.max_size = max_size\n",
        "        self.data = []\n",
        "\n",
        "    def push_and_pop(self, data):\n",
        "        to_return = []\n",
        "        for element in data.data:\n",
        "            element = torch.unsqueeze(element, 0)    # element의 맨 앞에 차원 추가\n",
        "            if len(self.data) < self.max_size:    # data의 크기가 max_size보다 작으면\n",
        "                self.data.append(element)    # data에 element값 붙임\n",
        "                to_return.append(element)    # to_return 값에도 element 붙임\n",
        "            else:\n",
        "                if random.uniform(0, 1) > 0.5:    # 0과 1사이의 임의의 실수를 뽑았을 때 0.5보다 크면\n",
        "                    i = random.randint(0, self.max_size - 1)    # 0과 max_size-1값 사이 임의의 실수를 i로 지정하고\n",
        "                    to_return.append(self.data[i].clone())    # data의 i번째 값을 복사하여 to_return에 추가\n",
        "                    self.data[i] = element    # data의 i번째 값은 element로 대체\n",
        "                else:\n",
        "                    to_return.append(element)    # 0.5보다 작았을 땐 element 값을 to_return에 추가\n",
        "        return Variable(torch.cat(to_return))    # tensor list를 한번에 tensor로 변경한 후 Variable 생성. variable은 미분을 진행할 수 있도록 함"
      ]
    },
    {
      "cell_type": "code",
      "execution_count": null,
      "metadata": {
        "id": "_RyeqcUnD3VJ"
      },
      "outputs": [],
      "source": [
        "# Buffers of previously generated samples\n",
        "fake_A_buffer = ReplayBuffer()    # 이전 생성 샘플(사람)들의 버퍼\n",
        "fake_B_buffer = ReplayBuffer()    # 이전 생성 샘플(애니)들의 버퍼"
      ]
    },
    {
      "cell_type": "code",
      "execution_count": null,
      "metadata": {
        "colab": {
          "base_uri": "https://localhost:8080/"
        },
        "id": "6v-VyMpUD3VJ",
        "outputId": "97b120de-09a8-4007-dd66-fc982f532712"
      },
      "outputs": [
        {
          "name": "stderr",
          "output_type": "stream",
          "text": [
            "/usr/local/lib/python3.7/dist-packages/torchvision/transforms/transforms.py:288: UserWarning: Argument interpolation should be of type InterpolationMode instead of int. Please, use InterpolationMode enum.\n",
            "  \"Argument interpolation should be of type InterpolationMode instead of int. \"\n"
          ]
        }
      ],
      "source": [
        "# Image transformations\n",
        "transforms_ = [\n",
        "    transforms.Resize(int(img_height * 1.12), Image.BICUBIC),    # 이미지 크기 변환. 이미지크기*1.12, 리샘플링 방법은 BICUBIC\n",
        "    transforms.RandomCrop((img_height, img_width)),    # 이미지를 자름. 256*256\n",
        "    transforms.RandomHorizontalFlip(),    # 이미지 랜덤하게 좌우반전\n",
        "    transforms.ToTensor(),    # 텐서화\n",
        "    transforms.Normalize((0.5, 0.5, 0.5), (0.5, 0.5, 0.5)),    # 평균&표준편차별 normalization 진행\n",
        "]"
      ]
    },
    {
      "cell_type": "code",
      "execution_count": null,
      "metadata": {
        "colab": {
          "base_uri": "https://localhost:8080/",
          "height": 396
        },
        "id": "sJV7MhIkD3VJ",
        "outputId": "c1bee634-6e89-47c7-b6f0-ebd39285e2ed"
      },
      "outputs": [
        {
          "ename": "ValueError",
          "evalue": "ignored",
          "output_type": "error",
          "traceback": [
            "\u001b[0;31m---------------------------------------------------------------------------\u001b[0m",
            "\u001b[0;31mValueError\u001b[0m                                Traceback (most recent call last)",
            "\u001b[0;32m<ipython-input-35-8812d2e8b452>\u001b[0m in \u001b[0;36m<module>\u001b[0;34m()\u001b[0m\n\u001b[1;32m      4\u001b[0m     \u001b[0mbatch_size\u001b[0m\u001b[0;34m=\u001b[0m\u001b[0mbatch_size\u001b[0m\u001b[0;34m,\u001b[0m\u001b[0;34m\u001b[0m\u001b[0;34m\u001b[0m\u001b[0m\n\u001b[1;32m      5\u001b[0m     \u001b[0mshuffle\u001b[0m\u001b[0;34m=\u001b[0m\u001b[0;32mTrue\u001b[0m\u001b[0;34m,\u001b[0m\u001b[0;34m\u001b[0m\u001b[0;34m\u001b[0m\u001b[0m\n\u001b[0;32m----> 6\u001b[0;31m     \u001b[0mnum_workers\u001b[0m\u001b[0;34m=\u001b[0m\u001b[0mn_cpu\u001b[0m\u001b[0;34m,\u001b[0m\u001b[0;34m\u001b[0m\u001b[0;34m\u001b[0m\u001b[0m\n\u001b[0m\u001b[1;32m      7\u001b[0m )\n\u001b[1;32m      8\u001b[0m \u001b[0;31m# Test data loader\u001b[0m\u001b[0;34m\u001b[0m\u001b[0;34m\u001b[0m\u001b[0;34m\u001b[0m\u001b[0m\n",
            "\u001b[0;32m/usr/local/lib/python3.7/dist-packages/torch/utils/data/dataloader.py\u001b[0m in \u001b[0;36m__init__\u001b[0;34m(self, dataset, batch_size, shuffle, sampler, batch_sampler, num_workers, collate_fn, pin_memory, drop_last, timeout, worker_init_fn, multiprocessing_context, generator, prefetch_factor, persistent_workers)\u001b[0m\n\u001b[1;32m    266\u001b[0m             \u001b[0;32melse\u001b[0m\u001b[0;34m:\u001b[0m  \u001b[0;31m# map-style\u001b[0m\u001b[0;34m\u001b[0m\u001b[0;34m\u001b[0m\u001b[0m\n\u001b[1;32m    267\u001b[0m                 \u001b[0;32mif\u001b[0m \u001b[0mshuffle\u001b[0m\u001b[0;34m:\u001b[0m\u001b[0;34m\u001b[0m\u001b[0;34m\u001b[0m\u001b[0m\n\u001b[0;32m--> 268\u001b[0;31m                     \u001b[0msampler\u001b[0m \u001b[0;34m=\u001b[0m \u001b[0mRandomSampler\u001b[0m\u001b[0;34m(\u001b[0m\u001b[0mdataset\u001b[0m\u001b[0;34m,\u001b[0m \u001b[0mgenerator\u001b[0m\u001b[0;34m=\u001b[0m\u001b[0mgenerator\u001b[0m\u001b[0;34m)\u001b[0m\u001b[0;34m\u001b[0m\u001b[0;34m\u001b[0m\u001b[0m\n\u001b[0m\u001b[1;32m    269\u001b[0m                 \u001b[0;32melse\u001b[0m\u001b[0;34m:\u001b[0m\u001b[0;34m\u001b[0m\u001b[0;34m\u001b[0m\u001b[0m\n\u001b[1;32m    270\u001b[0m                     \u001b[0msampler\u001b[0m \u001b[0;34m=\u001b[0m \u001b[0mSequentialSampler\u001b[0m\u001b[0;34m(\u001b[0m\u001b[0mdataset\u001b[0m\u001b[0;34m)\u001b[0m\u001b[0;34m\u001b[0m\u001b[0;34m\u001b[0m\u001b[0m\n",
            "\u001b[0;32m/usr/local/lib/python3.7/dist-packages/torch/utils/data/sampler.py\u001b[0m in \u001b[0;36m__init__\u001b[0;34m(self, data_source, replacement, num_samples, generator)\u001b[0m\n\u001b[1;32m    101\u001b[0m         \u001b[0;32mif\u001b[0m \u001b[0;32mnot\u001b[0m \u001b[0misinstance\u001b[0m\u001b[0;34m(\u001b[0m\u001b[0mself\u001b[0m\u001b[0;34m.\u001b[0m\u001b[0mnum_samples\u001b[0m\u001b[0;34m,\u001b[0m \u001b[0mint\u001b[0m\u001b[0;34m)\u001b[0m \u001b[0;32mor\u001b[0m \u001b[0mself\u001b[0m\u001b[0;34m.\u001b[0m\u001b[0mnum_samples\u001b[0m \u001b[0;34m<=\u001b[0m \u001b[0;36m0\u001b[0m\u001b[0;34m:\u001b[0m\u001b[0;34m\u001b[0m\u001b[0;34m\u001b[0m\u001b[0m\n\u001b[1;32m    102\u001b[0m             raise ValueError(\"num_samples should be a positive integer \"\n\u001b[0;32m--> 103\u001b[0;31m                              \"value, but got num_samples={}\".format(self.num_samples))\n\u001b[0m\u001b[1;32m    104\u001b[0m \u001b[0;34m\u001b[0m\u001b[0m\n\u001b[1;32m    105\u001b[0m     \u001b[0;34m@\u001b[0m\u001b[0mproperty\u001b[0m\u001b[0;34m\u001b[0m\u001b[0;34m\u001b[0m\u001b[0m\n",
            "\u001b[0;31mValueError\u001b[0m: num_samples should be a positive integer value, but got num_samples=0"
          ]
        }
      ],
      "source": [
        "# Training data loader\n",
        "dataloader = DataLoader(\n",
        "    ImageDataset(\"./images/%s\" % dataset_name, transforms_=transforms_, unaligned=True),\n",
        "    batch_size=batch_size,\n",
        "    shuffle=True,\n",
        "    num_workers=n_cpu,\n",
        ")\n",
        "# Test data loader\n",
        "val_dataloader = DataLoader(\n",
        "    ImageDataset(\"./images/%s\" % dataset_name, transforms_=transforms_, unaligned=True, mode=\"test\"),\n",
        "    batch_size=5,\n",
        "    shuffle=True,\n",
        "    num_workers=1,\n",
        ")"
      ]
    },
    {
      "cell_type": "code",
      "execution_count": null,
      "metadata": {
        "id": "d9OxVOLUD3VJ"
      },
      "outputs": [],
      "source": [
        "def sample_images(batches_done):\n",
        "    \"\"\"Saves a generated sample from the test set\"\"\"\n",
        "    imgs = next(iter(val_dataloader))    # test data의 목록에서 파일을 하나씩 불러오면서 imgs에 저장\n",
        "    G_AB.eval()    # generator 사람=>애니 평가모드 전환\n",
        "    G_BA.eval()    # generator 사람+애니 평가모드 전환\n",
        "    real_A = Variable(imgs[\"A\"].type(Tensor))    # 사람 이미지를 텐서화하여 variable 생성\n",
        "    fake_B = G_AB(real_A)    # 사람 이미지를 가지고 애니 이미지 생성\n",
        "    real_B = Variable(imgs[\"B\"].type(Tensor))    # 애니 이미지를 텐서화하여 variable 생성\n",
        "    fake_A = G_BA(real_B)    # 애니 이미지를 가지고 사람 이미지 생성\n",
        "    # Arange images along x-axis\n",
        "    real_A = make_grid(real_A, nrow=5, normalize=True)    # 실제 사람 이미지 5개를 가로로 붙임\n",
        "    real_B = make_grid(real_B, nrow=5, normalize=True)    # 실제 애니 이미지 5개를 가로로 붙임\n",
        "    fake_A = make_grid(fake_A, nrow=5, normalize=True)    # 생성 애니 이미지 5개를 가로로 붙임\n",
        "    fake_B = make_grid(fake_B, nrow=5, normalize=True)    # 생성 사람 이미지 5개를 가로로 붙임\n",
        "    # Arange images along y-axis\n",
        "    image_grid = torch.cat((real_A, fake_B, real_B, fake_A), 1)    # 위에서 붙인 이미지들을 세로로 붙임\n",
        "    save_image(image_grid, \"images/%s/%s.png\" % (dataset_name, batches_done), normalize=False)    # 이미지 저장"
      ]
    },
    {
      "cell_type": "code",
      "execution_count": null,
      "metadata": {
        "colab": {
          "base_uri": "https://localhost:8080/"
        },
        "id": "IqyDXr-uGKYP",
        "outputId": "02bb7ccb-6af5-4def-e277-83f610884472"
      },
      "outputs": [
        {
          "name": "stdout",
          "output_type": "stream",
          "text": [
            "1\n",
            "2\n",
            "3\n",
            "4\n",
            "5\n"
          ]
        }
      ],
      "source": [
        "l = [1,2,3,4,5]\n",
        "ir = iter(l)\n",
        "\n",
        "print(next(ir))\n",
        "print(next(ir))\n",
        "print(next(ir))\n",
        "print(next(ir))\n",
        "print(next(ir))"
      ]
    },
    {
      "cell_type": "code",
      "execution_count": null,
      "metadata": {
        "id": "B4WWNFy7SDGN"
      },
      "outputs": [],
      "source": [
        "real_A = Variable(batch[\"A\"].type(Tensor))"
      ]
    },
    {
      "cell_type": "code",
      "execution_count": null,
      "metadata": {
        "colab": {
          "base_uri": "https://localhost:8080/"
        },
        "id": "XNfaU8xaSkZz",
        "outputId": "340d56e8-c378-42e8-fa28-5523b7a34d8f"
      },
      "outputs": [
        {
          "data": {
            "text/plain": [
              "torch.Size([1, 3, 256, 256])"
            ]
          },
          "execution_count": 110,
          "metadata": {},
          "output_type": "execute_result"
        }
      ],
      "source": [
        "batch[\"A\"].shape"
      ]
    },
    {
      "cell_type": "code",
      "execution_count": null,
      "metadata": {
        "colab": {
          "base_uri": "https://localhost:8080/"
        },
        "id": "N49pmRaySFkA",
        "outputId": "e892fad3-7340-4998-84de-5a3a227338b0"
      },
      "outputs": [
        {
          "data": {
            "text/plain": [
              "tensor([[[[-0.0510, -0.0353, -0.0118,  ...,  0.6941,  0.6941,  0.6941],\n",
              "          [-0.0510, -0.0353, -0.0118,  ...,  0.7020,  0.7020,  0.7020],\n",
              "          [-0.0431, -0.0353, -0.0039,  ...,  0.6941,  0.6941,  0.6941],\n",
              "          ...,\n",
              "          [-0.6471, -0.6471, -0.6627,  ..., -0.5529, -0.5373, -0.5373],\n",
              "          [-0.6549, -0.6549, -0.6706,  ..., -0.5529, -0.5373, -0.5294],\n",
              "          [-0.6549, -0.6627, -0.6784,  ..., -0.5529, -0.5451, -0.5373]],\n",
              "\n",
              "         [[-0.0588, -0.0431, -0.0196,  ...,  0.7961,  0.7961,  0.7961],\n",
              "          [-0.0588, -0.0431, -0.0196,  ...,  0.8039,  0.8039,  0.8039],\n",
              "          [-0.0431, -0.0353, -0.0118,  ...,  0.8039,  0.8039,  0.8039],\n",
              "          ...,\n",
              "          [-0.8039, -0.8118, -0.8431,  ..., -0.5059, -0.4902, -0.4902],\n",
              "          [-0.8118, -0.8196, -0.8510,  ..., -0.5137, -0.4980, -0.4902],\n",
              "          [-0.8118, -0.8275, -0.8588,  ..., -0.5137, -0.5059, -0.4980]],\n",
              "\n",
              "         [[-0.0118, -0.0039,  0.0275,  ...,  0.6627,  0.6627,  0.6627],\n",
              "          [-0.0039,  0.0118,  0.0353,  ...,  0.6706,  0.6706,  0.6706],\n",
              "          [ 0.0275,  0.0431,  0.0667,  ...,  0.6706,  0.6706,  0.6706],\n",
              "          ...,\n",
              "          [-0.5843, -0.5843, -0.6157,  ..., -0.0431, -0.0275, -0.0275],\n",
              "          [-0.5922, -0.5922, -0.6235,  ..., -0.0510, -0.0431, -0.0353],\n",
              "          [-0.5922, -0.6000, -0.6314,  ..., -0.0588, -0.0510, -0.0431]]]])"
            ]
          },
          "execution_count": 107,
          "metadata": {},
          "output_type": "execute_result"
        }
      ],
      "source": [
        "batch['A']"
      ]
    },
    {
      "cell_type": "code",
      "execution_count": null,
      "metadata": {
        "colab": {
          "base_uri": "https://localhost:8080/"
        },
        "id": "-275vobCShgy",
        "outputId": "eba4cff0-73de-416a-fea3-9bd9558406a1"
      },
      "outputs": [
        {
          "data": {
            "text/plain": [
              "torch.Size([1, 3, 256, 256])"
            ]
          },
          "execution_count": 109,
          "metadata": {},
          "output_type": "execute_result"
        }
      ],
      "source": [
        "real_A.shape"
      ]
    },
    {
      "cell_type": "code",
      "execution_count": null,
      "metadata": {
        "colab": {
          "base_uri": "https://localhost:8080/"
        },
        "id": "4r1gvnx0SeWa",
        "outputId": "334cb5b4-3788-4656-cee4-1c6d1be70443"
      },
      "outputs": [
        {
          "data": {
            "text/plain": [
              "tensor([[[[-0.0510, -0.0353, -0.0118,  ...,  0.6941,  0.6941,  0.6941],\n",
              "          [-0.0510, -0.0353, -0.0118,  ...,  0.7020,  0.7020,  0.7020],\n",
              "          [-0.0431, -0.0353, -0.0039,  ...,  0.6941,  0.6941,  0.6941],\n",
              "          ...,\n",
              "          [-0.6471, -0.6471, -0.6627,  ..., -0.5529, -0.5373, -0.5373],\n",
              "          [-0.6549, -0.6549, -0.6706,  ..., -0.5529, -0.5373, -0.5294],\n",
              "          [-0.6549, -0.6627, -0.6784,  ..., -0.5529, -0.5451, -0.5373]],\n",
              "\n",
              "         [[-0.0588, -0.0431, -0.0196,  ...,  0.7961,  0.7961,  0.7961],\n",
              "          [-0.0588, -0.0431, -0.0196,  ...,  0.8039,  0.8039,  0.8039],\n",
              "          [-0.0431, -0.0353, -0.0118,  ...,  0.8039,  0.8039,  0.8039],\n",
              "          ...,\n",
              "          [-0.8039, -0.8118, -0.8431,  ..., -0.5059, -0.4902, -0.4902],\n",
              "          [-0.8118, -0.8196, -0.8510,  ..., -0.5137, -0.4980, -0.4902],\n",
              "          [-0.8118, -0.8275, -0.8588,  ..., -0.5137, -0.5059, -0.4980]],\n",
              "\n",
              "         [[-0.0118, -0.0039,  0.0275,  ...,  0.6627,  0.6627,  0.6627],\n",
              "          [-0.0039,  0.0118,  0.0353,  ...,  0.6706,  0.6706,  0.6706],\n",
              "          [ 0.0275,  0.0431,  0.0667,  ...,  0.6706,  0.6706,  0.6706],\n",
              "          ...,\n",
              "          [-0.5843, -0.5843, -0.6157,  ..., -0.0431, -0.0275, -0.0275],\n",
              "          [-0.5922, -0.5922, -0.6235,  ..., -0.0510, -0.0431, -0.0353],\n",
              "          [-0.5922, -0.6000, -0.6314,  ..., -0.0588, -0.0510, -0.0431]]]],\n",
              "       device='cuda:0')"
            ]
          },
          "execution_count": 108,
          "metadata": {},
          "output_type": "execute_result"
        }
      ],
      "source": [
        "real_A"
      ]
    },
    {
      "cell_type": "code",
      "execution_count": null,
      "metadata": {
        "colab": {
          "base_uri": "https://localhost:8080/"
        },
        "id": "jNJ_EZOkSsfq",
        "outputId": "74594704-16c9-441e-fe6e-085187c54ebd"
      },
      "outputs": [
        {
          "data": {
            "text/plain": [
              "1"
            ]
          },
          "execution_count": 111,
          "metadata": {},
          "output_type": "execute_result"
        }
      ],
      "source": [
        "real_A.size(0)"
      ]
    },
    {
      "cell_type": "code",
      "execution_count": null,
      "metadata": {
        "colab": {
          "base_uri": "https://localhost:8080/"
        },
        "id": "J4V4vUKvSuV7",
        "outputId": "ddb3d7e5-71cb-4710-85a1-77118087f632"
      },
      "outputs": [
        {
          "data": {
            "text/plain": [
              "(1, 16, 16)"
            ]
          },
          "execution_count": 116,
          "metadata": {},
          "output_type": "execute_result"
        }
      ],
      "source": [
        "D_A.output_shape"
      ]
    },
    {
      "cell_type": "code",
      "execution_count": null,
      "metadata": {
        "id": "O_JtwF-lS3HU"
      },
      "outputs": [],
      "source": [
        "valid = Variable(Tensor(np.ones((real_A.size(0), *D_A.output_shape))), requires_grad=False)"
      ]
    },
    {
      "cell_type": "code",
      "execution_count": null,
      "metadata": {
        "colab": {
          "base_uri": "https://localhost:8080/"
        },
        "id": "0b-G-gWjS373",
        "outputId": "b8e3a23e-efb7-42ca-d5ef-b027995812cd"
      },
      "outputs": [
        {
          "data": {
            "text/plain": [
              "torch.Size([1, 1, 16, 16])"
            ]
          },
          "execution_count": 119,
          "metadata": {},
          "output_type": "execute_result"
        }
      ],
      "source": [
        "valid.shape"
      ]
    },
    {
      "cell_type": "code",
      "execution_count": null,
      "metadata": {
        "colab": {
          "base_uri": "https://localhost:8080/"
        },
        "id": "f2xki6WaS8th",
        "outputId": "85b28c32-ae64-43e1-ffd8-90a08b922c20"
      },
      "outputs": [
        {
          "data": {
            "text/plain": [
              "tensor([[[[1., 1., 1., 1., 1., 1., 1., 1., 1., 1., 1., 1., 1., 1., 1., 1.],\n",
              "          [1., 1., 1., 1., 1., 1., 1., 1., 1., 1., 1., 1., 1., 1., 1., 1.],\n",
              "          [1., 1., 1., 1., 1., 1., 1., 1., 1., 1., 1., 1., 1., 1., 1., 1.],\n",
              "          [1., 1., 1., 1., 1., 1., 1., 1., 1., 1., 1., 1., 1., 1., 1., 1.],\n",
              "          [1., 1., 1., 1., 1., 1., 1., 1., 1., 1., 1., 1., 1., 1., 1., 1.],\n",
              "          [1., 1., 1., 1., 1., 1., 1., 1., 1., 1., 1., 1., 1., 1., 1., 1.],\n",
              "          [1., 1., 1., 1., 1., 1., 1., 1., 1., 1., 1., 1., 1., 1., 1., 1.],\n",
              "          [1., 1., 1., 1., 1., 1., 1., 1., 1., 1., 1., 1., 1., 1., 1., 1.],\n",
              "          [1., 1., 1., 1., 1., 1., 1., 1., 1., 1., 1., 1., 1., 1., 1., 1.],\n",
              "          [1., 1., 1., 1., 1., 1., 1., 1., 1., 1., 1., 1., 1., 1., 1., 1.],\n",
              "          [1., 1., 1., 1., 1., 1., 1., 1., 1., 1., 1., 1., 1., 1., 1., 1.],\n",
              "          [1., 1., 1., 1., 1., 1., 1., 1., 1., 1., 1., 1., 1., 1., 1., 1.],\n",
              "          [1., 1., 1., 1., 1., 1., 1., 1., 1., 1., 1., 1., 1., 1., 1., 1.],\n",
              "          [1., 1., 1., 1., 1., 1., 1., 1., 1., 1., 1., 1., 1., 1., 1., 1.],\n",
              "          [1., 1., 1., 1., 1., 1., 1., 1., 1., 1., 1., 1., 1., 1., 1., 1.],\n",
              "          [1., 1., 1., 1., 1., 1., 1., 1., 1., 1., 1., 1., 1., 1., 1., 1.]]]],\n",
              "       device='cuda:0')"
            ]
          },
          "execution_count": 120,
          "metadata": {},
          "output_type": "execute_result"
        }
      ],
      "source": [
        "valid"
      ]
    },
    {
      "cell_type": "code",
      "execution_count": null,
      "metadata": {
        "id": "NiZPktkP60S-"
      },
      "outputs": [],
      "source": [
        "real_A = Variable(batch[\"A\"].type(Tensor))    # 사람 이미지 배치사이즈만큼\n",
        "real_B = Variable(batch[\"B\"].type(Tensor))    # 애니 애미지 배치사이즈만큼\n",
        "\n",
        "valid = Variable(Tensor(np.ones((real_A.size(0), *D_A.output_shape))), requires_grad=False)    # 1로 채워진 [1,1,16,16] 텐서 생성. discriminator의 label\n",
        "fake = Variable(Tensor(np.zeros((real_A.size(0), *D_A.output_shape))), requires_grad=False)    # 1로 채워진 [1,1,16,16] 텐서 생성. discriminator의 label\n",
        "\n",
        "G_AB.train()    # Generator 학습모드 전환\n",
        "G_BA.train()    # Generator 학습모드 전환\n",
        "\n",
        "optimizer_G.zero_grad()    # 미분을 통해 얻은 기울기를 0으로 초기화. 새로운 기울기를 구할 수 있음 \n",
        "\n",
        "# (4) Identity loss : 색감, 형태 등을 유지하기 위한 값\n",
        "loss_id_A = criterion_identity(G_BA(real_A), real_A)    # 실제 사람 이미지를 가지고 생성한 이미지와 실제 사람 이미지를 비교하여 L1 loss 계산\n",
        "loss_id_B = criterion_identity(G_AB(real_B), real_B)    # 실제 애니 이미지를 가지고 생성한 이미지와 실제 애니 이미지를 비교하여 L1 loss 계산\n",
        "\n",
        "loss_identity = (loss_id_A + loss_id_B) / 2    # 위 값의 평균이 identitiy loss값\n",
        "\n",
        "\n",
        "# (5) GAN loss\n",
        "fake_B = G_AB(real_A)    # 실제 사람 이미지로 생성한 애니 이미지\n",
        "loss_GAN_AB = criterion_GAN(D_B(fake_B), valid)    # 생성된 애니 이미지를 진짜인지 가짜인지 분류 후 MSE loss 계산\n",
        "fake_A = G_BA(real_B)    # 실제 애니 이미지로 생성한 사람 이미지\n",
        "loss_GAN_BA = criterion_GAN(D_A(fake_A), valid)    # 생성된 사람 이미지를 진짜인지 가짜인지 분류 후 MSE loss 계산\n",
        "\n",
        "loss_GAN = (loss_GAN_AB + loss_GAN_BA) / 2    # 위 값의 평균이 GAN loss값"
      ]
    },
    {
      "cell_type": "code",
      "execution_count": null,
      "metadata": {
        "colab": {
          "base_uri": "https://localhost:8080/"
        },
        "id": "ZdpLVIAb7wbk",
        "outputId": "0b96a85d-66fa-492c-9a89-347eb8ba73f3"
      },
      "outputs": [
        {
          "data": {
            "text/plain": [
              "torch.Size([1, 1, 16, 16])"
            ]
          },
          "execution_count": 38,
          "metadata": {},
          "output_type": "execute_result"
        }
      ],
      "source": [
        "D_B(fake_B).shape"
      ]
    },
    {
      "cell_type": "code",
      "execution_count": null,
      "metadata": {
        "colab": {
          "base_uri": "https://localhost:8080/"
        },
        "id": "W4jeVlUo7iUe",
        "outputId": "aed1bc7e-0042-428a-bb3c-9b7411bda2fb"
      },
      "outputs": [
        {
          "data": {
            "text/plain": [
              "tensor([[[[-0.5385, -0.2609, -0.6837, -0.5663, -1.2807, -0.4364,  0.4466,\n",
              "           -1.5307, -1.2009, -0.9293, -0.4723, -0.9122, -1.0933, -0.7185,\n",
              "           -0.5515, -0.4422],\n",
              "          [-0.9425, -0.8221, -0.9328, -2.5480, -0.8875, -0.4895,  0.8747,\n",
              "           -0.9124, -1.9631,  0.0663,  0.0105, -1.9702, -0.9078, -0.7634,\n",
              "            0.1609, -0.4748],\n",
              "          [-1.0496, -0.1590,  0.1700, -1.1443, -1.1056, -1.3435, -1.0812,\n",
              "           -2.2141, -2.4557, -0.6571,  0.2358, -0.3887, -1.3687,  0.8638,\n",
              "           -0.9736, -1.5514],\n",
              "          [-0.8553, -0.1949, -2.7262, -0.1439, -3.7551, -0.2114, -0.5977,\n",
              "           -1.8524, -0.6225,  1.1741, -0.8058,  0.4506,  0.5779, -0.1379,\n",
              "           -3.4818, -0.3863],\n",
              "          [ 0.8640,  0.8441, -2.3090, -1.6754, -1.8631,  0.3730, -3.4543,\n",
              "           -2.4935, -0.9957, -2.0284, -2.2744, -3.7189, -0.3889, -2.7666,\n",
              "            0.0780, -1.7351],\n",
              "          [-1.7201, -2.5406, -2.4832, -1.3070,  0.4801,  0.7282, -0.2209,\n",
              "           -0.1875, -2.5636, -1.0267, -3.8032, -2.6541,  2.3518, -1.2721,\n",
              "           -0.8883, -1.4102],\n",
              "          [-0.6624, -0.4664, -0.7429, -1.4493,  0.3275, -0.8856,  0.0815,\n",
              "           -0.6477,  1.5046, -1.6936, -1.5742, -1.5817,  1.3399, -1.5860,\n",
              "           -0.8719,  1.1833],\n",
              "          [-2.2499, -0.9042, -2.0139,  0.9838, -1.4745,  0.9649, -0.7039,\n",
              "            0.0484, -2.3515,  0.3465, -0.1193, -0.9539, -1.4824, -0.4230,\n",
              "           -3.0816,  0.0588],\n",
              "          [-0.3856, -2.7994, -1.7142,  0.3492,  0.1051,  0.4140,  0.1588,\n",
              "            0.3111,  0.4421,  0.6988,  0.6953,  0.0198, -0.6899, -0.5476,\n",
              "           -1.9905,  0.2168],\n",
              "          [ 0.0088, -0.7589, -0.3585, -0.5820, -0.1031,  1.8258, -0.1864,\n",
              "            0.1711, -0.4383,  0.2317, -0.1441, -0.4646, -0.3390, -2.6613,\n",
              "           -1.0856, -1.2179],\n",
              "          [-1.0316, -2.3958, -0.4754,  0.1088,  0.2395, -1.8884, -0.5091,\n",
              "           -0.7253, -0.9627, -1.9454, -1.7256, -1.1694, -1.2610, -1.8651,\n",
              "            0.8400,  0.6352],\n",
              "          [-1.5913, -0.3124, -1.0962, -1.1085, -0.5916,  1.6533,  1.5457,\n",
              "           -0.2850, -1.0516,  0.8449, -0.2148,  1.7812, -1.8333, -0.6630,\n",
              "            0.3458,  1.7698],\n",
              "          [-0.7016, -0.4386,  0.1443, -0.9491, -0.4037, -0.5689, -2.7246,\n",
              "           -3.5614, -0.7940, -0.0133, -0.9245, -1.5753, -1.8153, -0.2615,\n",
              "           -1.2364,  0.8874],\n",
              "          [-1.4604, -1.5726, -0.3688, -0.9506, -1.3238, -3.3455, -1.5041,\n",
              "            0.0767,  2.5798,  0.8520, -1.5357, -1.1887,  0.1430, -0.0248,\n",
              "           -0.3267,  1.1074],\n",
              "          [-0.8897, -0.3537, -0.4255,  0.5250, -0.7792, -0.1489, -1.1201,\n",
              "           -0.2930, -1.9904, -0.6960, -1.3639, -0.4420,  0.1875, -1.2311,\n",
              "           -0.6973,  0.4628],\n",
              "          [-0.1071, -0.1235,  1.1639, -0.1810,  0.6863,  0.5241, -0.0096,\n",
              "           -0.7215, -1.0599, -0.9363,  0.5027, -0.7189, -0.7942, -0.8085,\n",
              "            0.3924, -0.6788]]]], device='cuda:0', grad_fn=<AddBackward0>)"
            ]
          },
          "execution_count": 36,
          "metadata": {},
          "output_type": "execute_result"
        }
      ],
      "source": [
        "D_B(fake_B)"
      ]
    },
    {
      "cell_type": "code",
      "execution_count": null,
      "metadata": {
        "colab": {
          "base_uri": "https://localhost:8080/"
        },
        "id": "OQcUEuaL9ckq",
        "outputId": "d53aee9c-039c-43a6-911e-d484791df843"
      },
      "outputs": [
        {
          "data": {
            "text/plain": [
              "torch.Size([1, 1, 16, 16])"
            ]
          },
          "execution_count": 40,
          "metadata": {},
          "output_type": "execute_result"
        }
      ],
      "source": [
        "D_A(real_A).shape"
      ]
    },
    {
      "cell_type": "code",
      "execution_count": null,
      "metadata": {
        "colab": {
          "base_uri": "https://localhost:8080/"
        },
        "id": "j14o_hL59a7o",
        "outputId": "bb2fdd3d-856e-4ad5-fc10-8a97181f8460"
      },
      "outputs": [
        {
          "data": {
            "text/plain": [
              "tensor([[[[-1.0250, -1.1591, -1.0351, -0.1347, -0.4656, -0.5077, -1.0215,\n",
              "           -1.0815, -1.0431, -0.4294, -0.0719, -0.2711, -1.5414, -1.7401,\n",
              "           -1.8943, -0.6797],\n",
              "          [-1.8457, -1.9872, -0.8827,  0.8154,  1.1164,  0.5998, -0.7189,\n",
              "            0.1315,  0.1571,  0.9007,  0.8999,  2.1333, -0.5298, -1.5339,\n",
              "           -1.0321, -0.8263],\n",
              "          [-1.5336, -4.7491, -1.2654, -0.3096,  0.4432, -0.6665, -0.4688,\n",
              "            0.6947,  1.1449,  0.9774,  2.1416,  1.5974,  0.5861, -0.9467,\n",
              "           -2.6035, -1.3595],\n",
              "          [-1.5767, -3.7998, -1.0460,  0.0485,  0.7825, -0.5068, -0.4468,\n",
              "            1.6961,  1.0006,  0.8205,  0.1018,  1.1686,  2.0836, -0.1198,\n",
              "           -2.5900, -1.8483],\n",
              "          [-1.2662, -1.9109, -0.7958, -2.3081,  0.1467, -0.8071, -1.6295,\n",
              "           -0.5807,  1.2267, -0.4077, -0.1969, -2.0713,  0.2089,  0.4039,\n",
              "           -0.8898, -2.0715],\n",
              "          [-1.2845, -1.8262, -1.6859, -0.3791, -2.8172, -1.8922, -0.2076,\n",
              "           -1.2080,  1.4720, -0.7473, -2.0725, -0.3552,  1.7354,  0.5775,\n",
              "           -0.7513, -3.4470],\n",
              "          [-0.4177, -2.0570, -0.5564, -0.4993, -2.0055, -1.4994, -0.8007,\n",
              "           -0.4746,  1.5306,  0.4697, -2.1443, -2.0436,  3.2267,  1.0672,\n",
              "           -0.7525, -2.8642],\n",
              "          [-0.8679, -1.5370, -0.3457,  0.0815, -0.2694, -0.6673, -1.1971,\n",
              "           -0.1824, -0.1295,  0.3839,  0.0344,  0.3974,  2.6374,  1.5115,\n",
              "            0.9293, -1.9479],\n",
              "          [-0.7865, -1.6129, -2.7424, -0.3462, -0.2509,  0.5355, -0.3441,\n",
              "            0.5128,  1.2818,  0.0837,  0.3282,  2.4308,  1.9017, -2.0721,\n",
              "           -1.2309, -1.5585],\n",
              "          [ 0.4456, -2.2031, -3.2368, -1.1240,  1.5431, -0.3791, -1.2915,\n",
              "           -0.2190, -1.2454,  0.3877,  0.5499,  1.8752, -0.7058, -1.2757,\n",
              "           -1.8627, -1.7989],\n",
              "          [-0.1561, -1.6266, -4.0343, -2.6792, -0.9345, -0.3132, -0.3002,\n",
              "           -0.1578, -0.7741,  1.8604,  1.8046,  0.0174, -0.5377, -0.9559,\n",
              "           -2.8436, -0.7966],\n",
              "          [-0.6882, -0.7908, -3.6437, -2.5889, -1.6180, -0.9819, -2.1406,\n",
              "           -0.9040, -0.0942,  2.1829, -0.0438, -0.2898, -2.4469, -2.8509,\n",
              "           -2.2145, -0.6074],\n",
              "          [-0.6633, -0.2214, -4.0550, -3.6119, -1.4577, -1.3606, -0.7990,\n",
              "           -1.6391, -0.8055,  0.9886,  0.7584, -1.4611, -1.8103, -2.0893,\n",
              "           -1.5271, -0.9001],\n",
              "          [-0.9720, -0.3956, -3.5517, -2.8162, -3.5001, -1.3664, -1.8563,\n",
              "           -0.0591,  0.3263,  1.6171, -0.3133, -0.8311, -2.8048, -2.0572,\n",
              "           -1.9270, -1.2542],\n",
              "          [-0.8271, -1.4463, -2.3751, -0.8424, -2.8515, -1.6446, -1.2308,\n",
              "           -1.2893, -1.5820, -0.5801, -1.4546, -3.0555, -1.7790, -1.0014,\n",
              "           -2.4612, -0.4519],\n",
              "          [-0.9627, -3.0275, -3.4440, -2.5605, -2.9975, -3.0875, -1.6281,\n",
              "            0.4318, -0.9597, -1.4229, -1.3030, -1.4429, -1.4974, -2.1756,\n",
              "           -2.5717, -2.2326]]]], device='cuda:0', grad_fn=<AddBackward0>)"
            ]
          },
          "execution_count": 39,
          "metadata": {},
          "output_type": "execute_result"
        }
      ],
      "source": [
        "D_A(real_A)"
      ]
    },
    {
      "cell_type": "code",
      "execution_count": null,
      "metadata": {
        "colab": {
          "base_uri": "https://localhost:8080/"
        },
        "id": "G0_NWkWID3VJ",
        "outputId": "f8daa060-ed1e-45df-eeb1-aacb202d038d"
      },
      "outputs": [
        {
          "name": "stderr",
          "output_type": "stream",
          "text": [
            "/usr/local/lib/python3.7/dist-packages/torch/utils/data/dataloader.py:481: UserWarning: This DataLoader will create 8 worker processes in total. Our suggested max number of worker in current system is 2, which is smaller than what this DataLoader is going to create. Please be aware that excessive worker creation might get DataLoader running slow or even freeze, lower the worker number to avoid potential slowness/freeze if necessary.\n",
            "  cpuset_checked))\n"
          ]
        },
        {
          "name": "stdout",
          "output_type": "stream",
          "text": [
            "[Epoch 19/20] [Batch 3399/3400] [D loss: 0.113236] [G loss: 2.150472, adv: 0.693580, cycle: 0.108289, identity: 0.074800] ETA: 0:00:00.319763"
          ]
        }
      ],
      "source": [
        "prev_time = time.time()\n",
        "for epoch in range(init_epoch, n_epochs):\n",
        "    for i, batch in enumerate(dataloader):\n",
        "\n",
        "        # (1) Set model input\n",
        "        real_A = Variable(batch[\"A\"].type(Tensor))    # 사람 이미지 배치사이즈만큼\n",
        "        real_B = Variable(batch[\"B\"].type(Tensor))    # 애니 애미지 배치사이즈만큼\n",
        "\n",
        "\n",
        "        # (2) Adversarial ground truths\n",
        "        valid = Variable(Tensor(np.ones((real_A.size(0), *D_A.output_shape))), requires_grad=False)    # 1로 채워진 [1,1,16,16] 텐서 생성. discriminator의 label\n",
        "        fake = Variable(Tensor(np.zeros((real_A.size(0), *D_A.output_shape))), requires_grad=False)    # 1로 채워진 [1,1,16,16] 텐서 생성. discriminator의 label\n",
        "\n",
        "\n",
        "        # (3) Train Generators\n",
        "        G_AB.train()    # Generator 학습모드 전환\n",
        "        G_BA.train()    # Generator 학습모드 전환\n",
        "\n",
        "        optimizer_G.zero_grad()    # Generator의 미분을 통해 얻은 기울기를 0으로 초기화. 새로운 기울기를 구할 수 있음 \n",
        "\n",
        "\n",
        "        # (4) Identity loss : 색감, 형태 등을 유지하기 위한 값\n",
        "        loss_id_A = criterion_identity(G_BA(real_A), real_A)    # 실제 사람 이미지를 가지고 생성한 이미지와 실제 사람 이미지를 비교하여 L1 loss 계산\n",
        "        loss_id_B = criterion_identity(G_AB(real_B), real_B)    # 실제 애니 이미지를 가지고 생성한 이미지와 실제 애니 이미지를 비교하여 L1 loss 계산\n",
        "\n",
        "        loss_identity = (loss_id_A + loss_id_B) / 2    # 위 값의 평균이 identitiy loss값\n",
        "\n",
        "\n",
        "        # (5) GAN loss\n",
        "        fake_B = G_AB(real_A)    # 실제 사람 이미지로 생성한 애니 이미지\n",
        "        loss_GAN_AB = criterion_GAN(D_B(fake_B), valid)    # 생성된 애니 이미지를 진짜인지 가짜인지 분류 후 MSE loss 계산\n",
        "        fake_A = G_BA(real_B)    # 실제 애니 이미지로 생성한 사람 이미지\n",
        "        loss_GAN_BA = criterion_GAN(D_A(fake_A), valid)    # 생성된 사람 이미지를 진짜인지 가짜인지 분류 후 MSE loss 계산\n",
        "\n",
        "        loss_GAN = (loss_GAN_AB + loss_GAN_BA) / 2    # 위 값의 평균이 GAN loss값\n",
        "\n",
        "\n",
        "        # (6) Cycle loss\n",
        "        recov_A = G_BA(fake_B)    # 생성된 애니 이미지로 다시 사람 이미지를 생성\n",
        "        loss_cycle_A = criterion_cycle(recov_A, real_A)    # 위과정에서 생성된 이미지와 원본 사람 이미지를 비교하여 L1 loss 계산\n",
        "        recov_B = G_AB(fake_A)    # 생성된 사람 이미지로 다시 애니 이미지를 생성\n",
        "        loss_cycle_B = criterion_cycle(recov_B, real_B)    # 위 과정에서 생성된 이미지와 원본 애니 이미지를 비교하여 L1 loss 계산\n",
        "\n",
        "        loss_cycle = (loss_cycle_A + loss_cycle_B) / 2    # 위 값의 평균이 cycle loss 값\n",
        "\n",
        "\n",
        "        # (7) Total loss\n",
        "        loss_G = loss_GAN + lambda_cyc * loss_cycle + lambda_id * loss_identity    # Generator의 전체 loss 값은 GAN의 loss값 + cycle lambda*cycle loss + identity lambda*identity loss\n",
        "\n",
        "        loss_G.backward()    # loss 값에 파라미터에 대한 기울기를 계산\n",
        "        optimizer_G.step()    # 가중치 Update\n",
        "\n",
        "\n",
        "        # (8) Train Discriminator A\n",
        "        optimizer_D_A.zero_grad()    # Discriminator_A의 가중치 업데이트를 위한 기울기 초기화\n",
        "\n",
        "\n",
        "        # (9) Real loss\n",
        "        loss_real = criterion_GAN(D_A(real_A), valid)    # Discriminator_A가 실제 사람이미지를 진짜라고 판단한 경우 MSE 손실함수 계산\n",
        "\n",
        "\n",
        "        # (10) Fake loss (on batch of previously generated samples)\n",
        "        fake_A_ = fake_A_buffer.push_and_pop(fake_A)    # 생성된 사람 이미지를 따로 저장(Cycle GAN 학습 진행을 위해)\n",
        "        loss_fake = criterion_GAN(D_A(fake_A_.detach()), fake)    # Discriminator_A가 생성 사람이미지를 가짜라고 판단한 경우 MSE 손실함수 계산. fake_A의 가중치는 업데이트 가능한 상태이므로 detach()함수로 값만 복사\n",
        "        \n",
        "\n",
        "        # (11) Total loss\n",
        "        loss_D_A = (loss_real + loss_fake) / 2    # #9, #10에서 계산한 손실값의 평균\n",
        "\n",
        "        loss_D_A.backward()    # 기울기 계산\n",
        "        optimizer_D_A.step()    # 업데이트\n",
        "\n",
        "\n",
        "        # (12) Train Discriminator B\n",
        "\n",
        "        optimizer_D_B.zero_grad()    # Discriminator_B의 가중치 업데이트를 위한 기울기 초기화\n",
        "\n",
        "\n",
        "        # (13) Real loss\n",
        "        loss_real = criterion_GAN(D_B(real_B), valid)    # Discriminator_B가 실제 애니이미지를 진짜라고 판단한 경우 MSE 손실함수 계산\n",
        "\n",
        "\n",
        "        # (14) Fake loss (on batch of previously generated samples)\n",
        "        fake_B_ = fake_B_buffer.push_and_pop(fake_B)    # 생성된 애니이미지를 따로 저장\n",
        "        loss_fake = criterion_GAN(D_B(fake_B_.detach()), fake)    # Discriminator_B가 생성 애니이미지를 가짜라고 판단한 경우 MSE 손실함수 계산\n",
        "\n",
        "\n",
        "        # (15) Total loss\n",
        "        loss_D_B = (loss_real + loss_fake) / 2    # #13, #14에서 계산한 손실값의 평균\n",
        "\n",
        "        loss_D_B.backward()    # 기울기 계산\n",
        "        optimizer_D_B.step()    # 업데이트\n",
        "\n",
        "        loss_D = (loss_D_A + loss_D_B) / 2    # Discriminator 전체의 손실값\n",
        "\n",
        "\n",
        "        # (16) Determine approximate time left\n",
        "        batches_done = epoch * len(dataloader) + i    # 한 epoch에서 진행된 배치 수\n",
        "        batches_left = n_epochs * len(dataloader) - batches_done    # 한 epoch에서 남은 배치 수\n",
        "        time_left = datetime.timedelta(seconds=batches_left * (time.time() - prev_time))    # 남은 시간\n",
        "        prev_time = time.time()\n",
        "\n",
        "\n",
        "        # (17) Print log\n",
        "        sys.stdout.write(\n",
        "            \"\\r[Epoch %d/%d] [Batch %d/%d] [D loss: %f] [G loss: %f, adv: %f, cycle: %f, identity: %f] ETA: %s\"\n",
        "            % (\n",
        "                epoch,\n",
        "                n_epochs,\n",
        "                i,\n",
        "                len(dataloader),\n",
        "                loss_D.item(),\n",
        "                loss_G.item(),\n",
        "                loss_GAN.item(),\n",
        "                loss_cycle.item(),\n",
        "                loss_identity.item(),\n",
        "                time_left,\n",
        "            )\n",
        "        )\n",
        "\n",
        "\n",
        "        # (18) If at sample interval save image\n",
        "        if batches_done % sample_interval == 0:    # 배치가 100번 진행될 때마다\n",
        "            sample_images(batches_done)    # 이미지 저장합시당\n",
        "\n",
        "\n",
        "    # (19) Update learning rates\n",
        "    lr_scheduler_G.step()\n",
        "    lr_scheduler_D_A.step()\n",
        "    lr_scheduler_D_B.step()\n",
        "\n",
        "\n",
        "    # (20) Save model checkpoints : 모델 가중치 저장\n",
        "    if opt.checkpoint_interval != -1 and epoch % opt.checkpoint_interval == 0:    # checkpoint_interval이 -1이 아니고 epoch을 나눈 나머지가 0인 경우.. 즉, epoch 5번마다\n",
        "        torch.save(G_AB.state_dict(), \"saved_models/%s/G_AB_%d.pth\" % (dataset_name, epoch))    # 모델 저장.. 밑도 동일\n",
        "        torch.save(G_BA.state_dict(), \"saved_models/%s/G_BA_%d.pth\" % (dataset_name, epoch))\n",
        "        torch.save(D_A.state_dict(), \"saved_models/%s/D_A_%d.pth\" % (dataset_name, epoch))\n",
        "        torch.save(D_B.state_dict(), \"saved_models/%s/D_B_%d.pth\" % (dataset_name, epoch))"
      ]
    },
    {
      "cell_type": "code",
      "execution_count": null,
      "metadata": {
        "id": "KlE0PC9pD3VK"
      },
      "outputs": [],
      "source": []
    }
  ],
  "metadata": {
    "accelerator": "GPU",
    "colab": {
      "collapsed_sections": [],
      "name": "셀피 애니화 연습_2.ipynb",
      "provenance": []
    },
    "kernelspec": {
      "display_name": "Python 3",
      "language": "python",
      "name": "python3"
    },
    "language_info": {
      "codemirror_mode": {
        "name": "ipython",
        "version": 3
      },
      "file_extension": ".py",
      "mimetype": "text/x-python",
      "name": "python",
      "nbconvert_exporter": "python",
      "pygments_lexer": "ipython3",
      "version": "3.8.8"
    }
  },
  "nbformat": 4,
  "nbformat_minor": 0
}
